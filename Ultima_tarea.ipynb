{
 "metadata": {
  "name": ""
 },
 "nbformat": 3,
 "nbformat_minor": 0,
 "worksheets": [
  {
   "cells": [
    {
     "cell_type": "code",
     "collapsed": false,
     "input": [
      "%pylab inline"
     ],
     "language": "python",
     "metadata": {},
     "outputs": [
      {
       "output_type": "stream",
       "stream": "stdout",
       "text": [
        "Populating the interactive namespace from numpy and matplotlib\n"
       ]
      }
     ],
     "prompt_number": 1
    },
    {
     "cell_type": "code",
     "collapsed": false,
     "input": [
      "#Primera derivada\n",
      "def func_prime(t,P,al,be,s,km1,km2):\n",
      "    return ((al*(s-P))/(km1+s-P))-((be*P)/(km2+P))"
     ],
     "language": "python",
     "metadata": {},
     "outputs": [],
     "prompt_number": 2
    },
    {
     "cell_type": "code",
     "collapsed": false,
     "input": [
      "#Condiciones del Runge-Kutta 4to orden\n",
      "h=0.1\n",
      "n_points = int((30.0+h)/h)\n",
      "iteraciones=1000\n",
      "\n",
      "#tiempo\n",
      "t = linspace(5,30,n_points)\n",
      "P = zeros(n_points)\n",
      "\n",
      "#Arreglos para los par\u00e1metros\n",
      "ALPHA=empty(0)\n",
      "BETA=empty(0)\n",
      "S_0=empty(0)\n",
      "k_m1=empty(0)\n",
      "k_m2=empty(0)\n",
      "\n",
      "#Arreglo para Chi\u00b2\n",
      "X_2=empty(0)\n",
      "\n",
      "#Cargar datos \n",
      "datos=np.loadtxt(\"dimer_observations.dat\",'float', comments='#', delimiter=None, converters=None, skiprows=0, usecols=None, unpack=False, ndmin=0)\n",
      "\n",
      "#Graficaci\u00f3n de puntos \n",
      "for i in range ((shape(datos)[0])):\n",
      "    scatter((datos[i][0]),(datos[i][1]))\n",
      "len (P)\n",
      "print len(datos)\n",
      "print datos"
     ],
     "language": "python",
     "metadata": {},
     "outputs": [
      {
       "output_type": "stream",
       "stream": "stdout",
       "text": [
        "16\n",
        "[[  5.   34. ]\n",
        " [  6.   33. ]\n",
        " [  7.   30. ]\n",
        " [  8.   28. ]\n",
        " [ 10.   26. ]\n",
        " [ 11.   25. ]\n",
        " [ 12.   23. ]\n",
        " [ 12.5  22. ]\n",
        " [ 15.   21. ]\n",
        " [ 16.   20.5]\n",
        " [ 17.5  20.5]\n",
        " [ 20.   20. ]\n",
        " [ 21.   19. ]\n",
        " [ 22.5  18.5]\n",
        " [ 25.   18. ]\n",
        " [ 30.   17.7]]\n"
       ]
      },
      {
       "metadata": {},
       "output_type": "display_data",
       "png": "[encoded data removed]",
       "text": [
        "<matplotlib.figure.Figure at 0x2c46390>"
       ]
      }
     ],
     "prompt_number": 3
    },
    {
     "cell_type": "code",
     "collapsed": false,
     "input": [
      "P_i=datos[:,1]\n",
      "t_i=datos[:,0]\n",
      "    \n",
      "print P_i,t_i"
     ],
     "language": "python",
     "metadata": {},
     "outputs": [
      {
       "output_type": "stream",
       "stream": "stdout",
       "text": [
        "[ 34.   33.   30.   28.   26.   25.   23.   22.   21.   20.5  20.5  20.\n",
        "  19.   18.5  18.   17.7] [  5.    6.    7.    8.   10.   11.   12.   12.5  15.   16.   17.5  20.\n",
        "  21.   22.5  25.   30. ]\n"
       ]
      }
     ],
     "prompt_number": 32
    },
    {
     "cell_type": "code",
     "collapsed": false,
     "input": [
      "#Recortar arreglo\n",
      "def clean(P_dat,P_RK,t):\n",
      "    \n",
      "    size=len(P_dat)\n",
      "    P_cut=zeros(size)\n",
      "    \n",
      "    for i in range(size):\n",
      "        \n",
      "        ti=P_dat[i,0]\n",
      "        \n",
      "        for j in range (len(t)):\n",
      "            \n",
      "            if (i==0):\n",
      "                \n",
      "                P_cut[i]=P_dat[i,1]\n",
      "                \n",
      "            else:\n",
      "                \n",
      "                if(ti==t[j]):\n",
      "                \n",
      "                    P_cut[i]=P_RK[i]\n",
      "                \n",
      "    return P_cut"
     ],
     "language": "python",
     "metadata": {},
     "outputs": [],
     "prompt_number": 5
    },
    {
     "cell_type": "code",
     "collapsed": false,
     "input": [
      "#Runge Kutta de 4to orden\n",
      "def Runge_Kutta(alpha,beta,s_o,K_m1,K_m2,P,t,P_dat):\n",
      "    #t[0] = 5\n",
      "    #P[0] = 2\n",
      "    for i in range(1,n_points):\n",
      "      \n",
      "        k1 = func_prime(t[i-1],P[i-1],alpha,beta,s_o,K_m1,K_m2)\n",
      "        \n",
      "        #first step\n",
      "        x1 = t[i-1] + (h/2.0)\n",
      "        y1 = P[i-1] + (h/2.0) * k1\n",
      "        k2 = func_prime(x1, y1,alpha,beta,s_o,K_m1,K_m2)\n",
      "        \n",
      "        #second step\n",
      "        x2 = t[i-1] + (h/2.0)\n",
      "        y2 = P[i-1] + (h/2.0) * k2\n",
      "        k3 = func_prime(x2,y2,alpha,beta,s_o,K_m1,K_m2)\n",
      "            \n",
      "        #third step\n",
      "        x3 = t[i-1] + h\n",
      "        y3 = P[i-1] + h * k3\n",
      "        k4 = func_prime(x3,y3,alpha,beta,s_o,K_m1,K_m2)\n",
      "        \n",
      "        #fourth step\n",
      "        average_k = (1.0/6.0)*(k1 + 2.0*k2 + 2.0*k3 + k4)\n",
      " \n",
      "        P[i] = P[i-1] +( h * average_k)\n",
      "        \n",
      "    P_final=clean(P_dat,P,t)\n",
      "        \n",
      "    return P_final\n"
     ],
     "language": "python",
     "metadata": {},
     "outputs": [],
     "prompt_number": 6
    },
    {
     "cell_type": "code",
     "collapsed": false,
     "input": [
      "#Prueba del Runge Kutta\n",
      "alpha=2.3\n",
      "beta=6.8\n",
      "s_o=9\n",
      "K_m1=5.2\n",
      "Km_2=6.1\n",
      "t[0]=0\n",
      "P[0]=datos[0,1]\n",
      "P_fin=Runge_Kutta(alpha,beta,s_o,K_m1,Km_2,P,t,datos)\n",
      "print P_fin\n"
     ],
     "language": "python",
     "metadata": {},
     "outputs": [
      {
       "output_type": "stream",
       "stream": "stdout",
       "text": [
        "[ 34.          33.71465548  33.43094912  33.14890848  32.86856172\n",
        "  32.58993758  32.31306542  32.03797523  31.76469764  31.49326391\n",
        "  31.22370598  30.95605644  30.69034858  30.42661635  30.16489442\n",
        "  29.90521817]\n"
       ]
      }
     ],
     "prompt_number": 7
    },
    {
     "cell_type": "code",
     "collapsed": false,
     "input": [
      "plot(t,P)\n",
      "\n",
      "for i in range ((shape(datos)[0])):\n",
      "    scatter((datos[i][0]),(datos[i][1]))"
     ],
     "language": "python",
     "metadata": {},
     "outputs": [
      {
       "metadata": {},
       "output_type": "display_data",
       "png": "[encoded data removed]",
       "text": [
        "<matplotlib.figure.Figure at 0x2c55050>"
       ]
      }
     ],
     "prompt_number": 8
    },
    {
     "cell_type": "code",
     "collapsed": false,
     "input": [
      "#Funci\u00f3n para calcular Chi\u00b2\n",
      "\n",
      "def Chi(P_dat,P_RK):\n",
      "    \n",
      "    suma=sum((P_dat-P_RK)**2)\n",
      "    size=len(P_dat)\n",
      "                \n",
      "    return suma/size    "
     ],
     "language": "python",
     "metadata": {},
     "outputs": [],
     "prompt_number": 9
    },
    {
     "cell_type": "code",
     "collapsed": false,
     "input": [
      "#Inicializaci\u00f3n de los arreglos de los par\u00e1metros de la ecuaci\u00f3n\n",
      "\n",
      "ALPHA=append(ALPHA,2.5)\n",
      "BETA=append(BETA,7)\n",
      "S_0=append(S_0,5)\n",
      "k_m1=append(k_m1,5)\n",
      "k_m2=append(k_m2,6)\n",
      "\n",
      "#Markov Chain Monte Carlo\n",
      "\n",
      "P_ol=zeros(n_points)\n",
      "P_ol[0]=datos[0,1]\n",
      "P_old=Runge_Kutta(ALPHA[0],BETA[0],S_0[0],k_m1[0],k_m2[0],P_ol,t,datos)\n",
      "X_2=append(X_2,Chi(P_i,P_old))\n",
      "\n",
      "for i in range((iteraciones-1)):\n",
      "    \n",
      "    #Valores aleatorios escogidos para los par\u00e1metros de la ecuaci\u00f3n\n",
      "    P_nw=zeros(n_points)\n",
      "    \n",
      "    alp = abs(np.random.normal(ALPHA[i], 0.1))\n",
      "    bet = abs(np.random.normal(BETA[i], 0.1))\n",
      "    s_0 = abs(np.random.normal(S_0[i], 0.1))\n",
      "    km1 = abs(np.random.normal(k_m1[i], 0.1))\n",
      "    km2 = abs(np.random.normal(k_m2[i], 0.1))\n",
      "    \n",
      "    #Llenar P_new\n",
      "    P_nw[0]=P_i[0]\n",
      "    P_new=Runge_Kutta(alp,bet,s_0,km1,km2,P_nw,t,datos)\n",
      "    \n",
      "    #Comparaci\u00f3n con Chi\u00b2 \n",
      "    \n",
      "    X2_old=X_2[i]\n",
      "    X2_new=Chi(P_i,P_new)\n",
      "    \n",
      "    X2_p=X2_new-X2_old\n",
      "    \n",
      "    if(X2_p<=0.0):\n",
      "        \n",
      "        X_2=append(X_2,X2_new)\n",
      "        \n",
      "        ALPHA=append(ALPHA,alp)\n",
      "        BETA=append(BETA,bet)\n",
      "        S_0=append(S_0,s_0)\n",
      "        k_m1=append(k_m1,km1)\n",
      "        k_m2=append(k_m2,km2)\n",
      "        \n",
      "    else:\n",
      "        \n",
      "        alpha_p=exp(-X2_p)\n",
      "        betha_p=random.random() \n",
      "        \n",
      "        if(betha_p<alpha_p):\n",
      "            \n",
      "            X_2=append(X_2,X2_new)\n",
      "        \n",
      "            ALPHA=append(ALPHA,alp)\n",
      "            BETA=append(BETA,bet)\n",
      "            S_0=append(S_0,s_0)\n",
      "            k_m1=append(k_m1,km1)\n",
      "            k_m2=append(k_m2,km2)\n",
      "            \n",
      "        else:\n",
      "                     \n",
      "            X_2=append(X_2,X_2[i])\n",
      "        \n",
      "            ALPHA=append(ALPHA,ALPHA[i])\n",
      "            BETA=append(BETA,BETA[i])\n",
      "            S_0=append(S_0,S_0[i])\n",
      "            k_m1=append(k_m1,k_m1[i])\n",
      "            k_m2=append(k_m2,k_m2[i])\n"
     ],
     "language": "python",
     "metadata": {},
     "outputs": [],
     "prompt_number": 29
    },
    {
     "cell_type": "code",
     "collapsed": false,
     "input": [
      "#Par\u00e1metros con el menor Chi\u00b2\n",
      "\n",
      "n=argmin(X_2)\n",
      "\n",
      "alpha_opt = ALPHA[n]\n",
      "beta_opt = BETA[n]\n",
      "km1_opt = k_m1[n]\n",
      "km2_opt = k_m2[n]\n",
      "s_op = S_0[n]\n",
      "\n",
      "P_op=zeros(n_points)\n",
      "\n",
      "P_opt=Runge_Kutta(alpha_opt,beta_opt,s_op,km1,km2,P_op,t,datos)\n",
      "\n",
      "print P_opt, X_2[n],alpha_opt,beta_opt,km1_opt,km2_opt,s_op\n",
      "plot(t_i,P_opt)\n",
      "scatter(t_i,P_i)"
     ],
     "language": "python",
     "metadata": {},
     "outputs": [
      {
       "output_type": "stream",
       "stream": "stdout",
       "text": [
        "[ 34.           0.19120229   0.37871559   0.56264463   0.74307927\n",
        "   0.92009702   1.09376504   1.26414183   1.43127859   1.59522037\n",
        "   1.75600704   1.91367412   2.06825348   2.21977396   2.36826189\n",
        "   2.51374156] 4.60086608508 3.60202790005 0.415575181519 6.58950968638 5.07743927858 7.70220663259\n"
       ]
      },
      {
       "metadata": {},
       "output_type": "pyout",
       "prompt_number": 36,
       "text": [
        "<matplotlib.collections.PathCollection at 0x4122090>"
       ]
      },
      {
       "metadata": {},
       "output_type": "display_data",
       "png": "[encoded data removed]",
       "text": [
        "<matplotlib.figure.Figure at 0x3d01a50>"
       ]
      }
     ],
     "prompt_number": 36
    },
    {
     "cell_type": "code",
     "collapsed": false,
     "input": [],
     "language": "python",
     "metadata": {},
     "outputs": [],
     "prompt_number": "*"
    },
    {
     "cell_type": "code",
     "collapsed": false,
     "input": [],
     "language": "python",
     "metadata": {},
     "outputs": []
    }
   ],
   "metadata": {}
  }
 ]
}