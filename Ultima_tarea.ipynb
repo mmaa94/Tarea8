{
 "metadata": {
  "name": ""
 },
 "nbformat": 3,
 "nbformat_minor": 0,
 "worksheets": [
  {
   "cells": [
    {
     "cell_type": "code",
     "collapsed": false,
     "input": [
      "%pylab inline"
     ],
     "language": "python",
     "metadata": {},
     "outputs": [
      {
       "output_type": "stream",
       "stream": "stdout",
       "text": [
        "Populating the interactive namespace from numpy and matplotlib\n"
       ]
      }
     ],
     "prompt_number": 1
    },
    {
     "cell_type": "code",
     "collapsed": false,
     "input": [
      "#Condiciones del Runge-Kutta 4to orden\n",
      "h=0.01\n",
      "n_points = int((30.0+h)/h)\n",
      "iteraciones=50000\n",
      "\n",
      "#tiempo\n",
      "t = linspace(5,30,n_points)\n",
      "P = zeros(n_points)\n",
      "\n",
      "#Arreglos para los par\u00e1metros\n",
      "ALPHA=zeros(iteraciones)\n",
      "BETA=zeros(iteraciones)\n",
      "S_0=zeros(iteraciones)\n",
      "k_m1=zeros(iteraciones)\n",
      "k_m2=zeros(iteraciones)\n",
      "\n",
      "#Arreglo para Chi\u00b2\n",
      "X_2=zeros(iteraciones)\n",
      "\n",
      "#Cargar datos \n",
      "datos=np.loadtxt(\"dimer_observations.dat\",'float', comments='#', delimiter=None, converters=None, skiprows=0, usecols=None, unpack=False, ndmin=0)\n",
      "\n",
      "#Graficaci\u00f3n de puntos \n",
      "for i in range ((shape(datos)[0])):\n",
      "    scatter((datos[i][0]),(datos[i][1]))\n",
      "len (P)"
     ],
     "language": "python",
     "metadata": {},
     "outputs": [
      {
       "metadata": {},
       "output_type": "pyout",
       "prompt_number": 2,
       "text": [
        "3001"
       ]
      },
      {
       "metadata": {},
       "output_type": "display_data",
       "png": "[encoded data removed]",
       "text": [
        "<matplotlib.figure.Figure at 0x36ffb90>"
       ]
      }
     ],
     "prompt_number": 2
    },
    {
     "cell_type": "code",
     "collapsed": false,
     "input": [
      "#Primera derivada\n",
      "def func_prime(t,P,al,be,s,km1,km2):\n",
      "    return ((al*(s-P))/(km1+s-P))-((be*P)/(km2+P))"
     ],
     "language": "python",
     "metadata": {},
     "outputs": [],
     "prompt_number": 3
    },
    {
     "cell_type": "code",
     "collapsed": false,
     "input": [
      "#Runge Kutta de 4to orden\n",
      "def Runge_Kutta(alpha,beta,s_o,K_m1,K_m2,P,t):\n",
      "    #t[0] = 5\n",
      "    #P[0] = 2\n",
      "    for i in range(1,n_points):\n",
      "      \n",
      "        k1 = func_prime(t[i-1],P[i-1],alpha,beta,s_o,K_m1,K_m2)\n",
      "        \n",
      "        #first step\n",
      "        x1 = t[i-1] + (h/2.0)\n",
      "        y1 = P[i-1] + (h/2.0) * k1\n",
      "        k2 = func_prime(x1, y1,alpha,beta,s_o,K_m1,K_m2)\n",
      "        \n",
      "        #second step\n",
      "        x2 = t[i-1] + (h/2.0)\n",
      "        y2 = P[i-1] + (h/2.0) * k2\n",
      "        k3 = func_prime(x2,y2,alpha,beta,s_o,K_m1,K_m2)\n",
      "            \n",
      "        #third step\n",
      "        x3 = t[i-1] + h\n",
      "        y3 = P[i-1] + h * k3\n",
      "        k4 = func_prime(x3,y3,alpha,beta,s_o,K_m1,K_m2)\n",
      "        \n",
      "        #fourth step\n",
      "        average_k = (1.0/6.0)*(k1 + 2.0*k2 + 2.0*k3 + k4)\n",
      "        \n",
      " \n",
      "        P[i] = P[i-1] +( h * average_k)\n",
      "        \n"
     ],
     "language": "python",
     "metadata": {},
     "outputs": [],
     "prompt_number": 4
    },
    {
     "cell_type": "code",
     "collapsed": false,
     "input": [
      "#Prueba del Runge Kutta\n",
      "alpha=2.3\n",
      "beta=6.8\n",
      "s_o=9\n",
      "K_m1=5.2\n",
      "Km_2=6.1\n",
      "t[0]=0\n",
      "P[0]=datos[0,1]\n",
      "Runge_Kutta(alpha,beta,s_o,K_m1,Km_2,P,t)\n",
      "print P\n"
     ],
     "language": "python",
     "metadata": {},
     "outputs": [
      {
       "output_type": "stream",
       "stream": "stdout",
       "text": [
        "[ 34.          33.9713926   33.94280135 ...,  18.45510952  18.45510952\n",
        "  18.45510952]\n"
       ]
      }
     ],
     "prompt_number": 5
    },
    {
     "cell_type": "code",
     "collapsed": false,
     "input": [
      "plot(t,P)\n",
      "\n",
      "for i in range ((shape(datos)[0])):\n",
      "    scatter((datos[i][0]),(datos[i][1]))"
     ],
     "language": "python",
     "metadata": {},
     "outputs": [
      {
       "metadata": {},
       "output_type": "display_data",
       "png": "[encoded data removed]",
       "text": [
        "<matplotlib.figure.Figure at 0x370c810>"
       ]
      }
     ],
     "prompt_number": 6
    },
    {
     "cell_type": "code",
     "collapsed": false,
     "input": [
      "#Funci\u00f3n para calcular Chi\u00b2\n",
      "\n",
      "def Chi(P_dat,P,t):\n",
      "    \n",
      "    suma=0.0\n",
      "    size=len(P_dat)\n",
      "    \n",
      "    for i in range(3,size):\n",
      "        \n",
      "        ti=P_dat[i,0]\n",
      "        Pi=P_dat[i,1]\n",
      "        \n",
      "        for j in range (len(t)):\n",
      "            \n",
      "            if(ti==t[j]):\n",
      "                \n",
      "                resta=(Pi-P[j])**2\n",
      "                suma=suma+resta\n",
      "                \n",
      "    return suma/size\n",
      "        \n",
      "        "
     ],
     "language": "python",
     "metadata": {},
     "outputs": [],
     "prompt_number": 7
    },
    {
     "cell_type": "code",
     "collapsed": false,
     "input": [
      "#Inicializaci\u00f3n de los arreglos de los par\u00e1metros de la ecuaci\u00f3n\n",
      "\n",
      "ALPHA[0]=random.random()\n",
      "BETA[0]=random.random()\n",
      "S_0[0]=random.random()\n",
      "k_m1[0]=random.random()\n",
      "k_m2[0]=random.random()\n",
      "\n",
      "#Markov Chain Monte Carlo\n",
      "\n",
      "P_old=zeros(n_points)\n",
      "P_old[0]=datos[3,1]\n",
      "Runge_Kutta(ALPHA[0],BETA[0],S_0[0],k_m1[0],k_m2[0],P_old,t)\n",
      "X_2[0]=Chi(datos,P_old,t)\n",
      "\n",
      "for i in range((iteraciones-1)):\n",
      "    \n",
      "    #Valores aleatorios escogidos para los par\u00e1metros de la ecuaci\u00f3n\n",
      "    P_new=zeros(n_points)\n",
      "    alp = abs(np.random.normal(ALPHA[i], 0.1))\n",
      "    bet = abs(np.random.normal(BETA[i], 0.1))\n",
      "    s_0 = abs(np.random.normal(S_0[i], 0.1))\n",
      "    km1 = abs(np.random.normal(k_m1[i], 0.1))\n",
      "    km2 = abs(np.random.normal(k_m2[i], 0.1))\n",
      "    \n",
      "    #Llenar P_new\n",
      "    P_new[0]=datos[3,1]\n",
      "    Runge_Kutta(alp,bet,s_0,km1,km2,P_new,t)\n",
      "    \n",
      "    #Comparaci\u00f3n con Chi\u00b2 \n",
      "    \n",
      "    X2_old=X_2[i]\n",
      "    X2_new=Chi(datos,P_new,t)\n",
      "    \n",
      "    if(X2_new<X2_old):\n",
      "        \n",
      "        X_2[i+1]=X2_new\n",
      "        \n",
      "        ALPHA[i+1]=alp\n",
      "        BETA[i+1]=bet\n",
      "        S_0[i+1]=s_0\n",
      "        k_m1[i+1]=km1\n",
      "        k_m2[i+1]=km2\n",
      "        \n",
      "        P_old=P_new.copy()\n",
      "        \n",
      "    else:\n",
      "        \n",
      "        alpha_p=exp(-(X2_new-X2_old))\n",
      "        betha_p=random.random() \n",
      "        \n",
      "        if(alpha_p<betha_p):\n",
      "            \n",
      "            ALPHA[i+1]=alp\n",
      "            BETA[i+1]=bet\n",
      "            S_0[i+1]=s_0\n",
      "            k_m1[i+1]=km1\n",
      "            k_m2[i+1]=km2\n",
      "            \n",
      "            P_old=P_new.copy()\n",
      "            \n",
      "            X_2[i+1]=X2_new\n",
      "            \n",
      "        else:\n",
      "            \n",
      "            P_old=P_old.copy() \n",
      "            \n",
      "            ALPHA[i+1]=ALPHA[i]\n",
      "            BETA[i+1]=BETA[i]\n",
      "            S_0[i+1]=S_0[i]\n",
      "            k_m1[i+1]=k_m1[i]\n",
      "            k_m2[i+1]=k_m2[i]\n",
      "            \n",
      "            X_2[i+1]=X2_old\n"
     ],
     "language": "python",
     "metadata": {},
     "outputs": [],
     "prompt_number": "*"
    },
    {
     "cell_type": "code",
     "collapsed": false,
     "input": [
      "#Par\u00e1metros con el menor Chi\u00b2\n",
      "\n",
      "n=argmin(X_2)\n",
      "\n",
      "alpha_opt = ALPHA[n]\n",
      "beta_opt = BETA[n]\n",
      "km1_opt = k_m1[n]\n",
      "km2_opt = k_m2[n]\n",
      "s_op = S_0[n]\n",
      "\n",
      "P_op=zeros(n_points)\n",
      "\n",
      "Runge_Kutta(alpha_opt,beta_opt,s_op,km1,km2,P_op,t)\n",
      "\n",
      "print P_op, X_2[n]\n",
      "plot(t,P_op)"
     ],
     "language": "python",
     "metadata": {},
     "outputs": [],
     "prompt_number": "*"
    },
    {
     "cell_type": "code",
     "collapsed": false,
     "input": [],
     "language": "python",
     "metadata": {},
     "outputs": [],
     "prompt_number": "*"
    },
    {
     "cell_type": "code",
     "collapsed": false,
     "input": [],
     "language": "python",
     "metadata": {},
     "outputs": []
    }
   ],
   "metadata": {}
  }
 ]
}