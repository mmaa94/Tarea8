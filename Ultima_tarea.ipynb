{
 "metadata": {
  "name": ""
 },
 "nbformat": 3,
 "nbformat_minor": 0,
 "worksheets": [
  {
   "cells": [
    {
     "cell_type": "code",
     "collapsed": false,
     "input": [
      "%pylab inline"
     ],
     "language": "python",
     "metadata": {},
     "outputs": [
      {
       "output_type": "stream",
       "stream": "stdout",
       "text": [
        "Populating the interactive namespace from numpy and matplotlib\n"
       ]
      },
      {
       "output_type": "stream",
       "stream": "stderr",
       "text": [
        "WARNING: pylab import has clobbered these variables: ['beta']\n",
        "`%pylab --no-import-all` prevents importing * from pylab and numpy\n"
       ]
      }
     ],
     "prompt_number": 16
    },
    {
     "cell_type": "code",
     "collapsed": false,
     "input": [
      "h=0.02\n",
      "n_points = int((2.0+h)/h)\n",
      "iteraciones=2000\n",
      "t =  linspace(5,30,n_points)\n",
      "P = zeros(n_points)\n",
      "ALPHA=[]\n",
      "BETA=[]\n",
      "S_0=[]\n",
      "k_m1=[]\n",
      "k_m2=[]\n",
      "datos=np.loadtxt(\"dimer_observations.dat\",'float', comments='#', delimiter=None, converters=None, skiprows=0, usecols=None, unpack=False, ndmin=0)\n",
      "for i in range ((shape(datos)[0])):\n",
      "    scatter((datos[i][0]),(datos[i][1]))\n",
      "len (P)"
     ],
     "language": "python",
     "metadata": {},
     "outputs": [
      {
       "metadata": {},
       "output_type": "pyout",
       "prompt_number": 17,
       "text": [
        "101"
       ]
      },
      {
       "metadata": {},
       "output_type": "display_data",
       "png": "[encoded data removed]",
       "text": [
        "<matplotlib.figure.Figure at 0x3097850>"
       ]
      }
     ],
     "prompt_number": 17
    },
    {
     "cell_type": "code",
     "collapsed": false,
     "input": [
      "def func_prime(t,P,al,be,s,km1,km2):\n",
      "    return (al*(s-P)/(km1+s-P))-(be*P/(km2+P))"
     ],
     "language": "python",
     "metadata": {},
     "outputs": [],
     "prompt_number": 18
    },
    {
     "cell_type": "code",
     "collapsed": false,
     "input": [
      "def Runge_Kutta(alpha,beta,s_o,K_m1,K_m2):\n",
      "    t[0] = 5\n",
      "    P[0] = 2\n",
      "    for i in range(1,n_points):\n",
      "      \n",
      "        k1 = func_prime(t[i-1],P[i-1],alpha,beta,s_o,K_m1,K_m2)\n",
      "        \n",
      "        #first step\n",
      "        x1 = t[i-1] + (h/2.0)\n",
      "        y1 = P[i-1] + (h/2.0) * k1\n",
      "        k2 = func_prime(x1, y1,alpha,beta,s_o,K_m1,K_m2)\n",
      "        \n",
      "        #second step\n",
      "        x2 = t[i-1] + (h/2.0)\n",
      "        y2 = P[i-1] + (h/2.0) * k2\n",
      "        k3 = func_prime(x2,y2,alpha,beta,s_o,K_m1,K_m2)\n",
      "            \n",
      "        #third step\n",
      "        x3 = t[i-1] + h\n",
      "        y3 = P[i-1] + h * k3\n",
      "        k4 = func_prime(x3,y3,alpha,beta,s_o,K_m1,K_m2)\n",
      "        \n",
      "        #fourth step\n",
      "        average_k = (1.0/6.0)*(k1 + 2.0*k2 + 2.0*k3 + k4)\n",
      "        \n",
      " \n",
      "        P[i] = P[i-1] +( h * average_k)\n"
     ],
     "language": "python",
     "metadata": {},
     "outputs": [],
     "prompt_number": 19
    },
    {
     "cell_type": "code",
     "collapsed": false,
     "input": [
      "ALPHA.append(random.uniform(0,1))\n",
      "BETA.append(random.uniform(0,1))\n",
      "S_0.append(random.uniform(0,1))\n",
      "k_m1.append(random.uniform(0,1))\n",
      "k_m2.append(random.uniform(0,1))\n",
      "alpha=2.3\n",
      "beta=6.8\n",
      "s_o=9\n",
      "K_m1=5.2\n",
      "Km_2=6.1\n",
      "Runge_Kutta(alpha,beta,s_o,K_m1,K_m2)"
     ],
     "language": "python",
     "metadata": {},
     "outputs": [
      {
       "ename": "NameError",
       "evalue": "name 'K_m2' is not defined",
       "output_type": "pyerr",
       "traceback": [
        "\u001b[1;31m---------------------------------------------------------------------------\u001b[0m\n\u001b[1;31mNameError\u001b[0m                                 Traceback (most recent call last)",
        "\u001b[1;32m<ipython-input-20-01a904fa035a>\u001b[0m in \u001b[0;36m<module>\u001b[1;34m()\u001b[0m\n\u001b[0;32m      9\u001b[0m \u001b[0mK_m1\u001b[0m\u001b[1;33m=\u001b[0m\u001b[1;36m5.2\u001b[0m\u001b[1;33m\u001b[0m\u001b[0m\n\u001b[0;32m     10\u001b[0m \u001b[0mKm_2\u001b[0m\u001b[1;33m=\u001b[0m\u001b[1;36m6.1\u001b[0m\u001b[1;33m\u001b[0m\u001b[0m\n\u001b[1;32m---> 11\u001b[1;33m \u001b[0mRunge_Kutta\u001b[0m\u001b[1;33m(\u001b[0m\u001b[0malpha\u001b[0m\u001b[1;33m,\u001b[0m\u001b[0mbeta\u001b[0m\u001b[1;33m,\u001b[0m\u001b[0ms_o\u001b[0m\u001b[1;33m,\u001b[0m\u001b[0mK_m1\u001b[0m\u001b[1;33m,\u001b[0m\u001b[0mK_m2\u001b[0m\u001b[1;33m)\u001b[0m\u001b[1;33m\u001b[0m\u001b[0m\n\u001b[0m",
        "\u001b[1;31mNameError\u001b[0m: name 'K_m2' is not defined"
       ]
      }
     ],
     "prompt_number": 20
    },
    {
     "cell_type": "code",
     "collapsed": false,
     "input": [
      "plot(t,P)\n",
      "for i in range ((shape(datos)[0])):\n",
      "    scatter((datos[i][0]),(datos[i][1]))"
     ],
     "language": "python",
     "metadata": {},
     "outputs": [
      {
       "metadata": {},
       "output_type": "display_data",
       "png": "[encoded data removed]",
       "text": [
        "<matplotlib.figure.Figure at 0x30894d0>"
       ]
      }
     ],
     "prompt_number": 21
    },
    {
     "cell_type": "code",
     "collapsed": false,
     "input": [],
     "language": "python",
     "metadata": {},
     "outputs": [],
     "prompt_number": 21
    },
    {
     "cell_type": "code",
     "collapsed": false,
     "input": [],
     "language": "python",
     "metadata": {},
     "outputs": [],
     "prompt_number": 21
    },
    {
     "cell_type": "code",
     "collapsed": false,
     "input": [],
     "language": "python",
     "metadata": {},
     "outputs": [],
     "prompt_number": 21
    },
    {
     "cell_type": "code",
     "collapsed": false,
     "input": [],
     "language": "python",
     "metadata": {},
     "outputs": [],
     "prompt_number": 21
    },
    {
     "cell_type": "code",
     "collapsed": false,
     "input": [],
     "language": "python",
     "metadata": {},
     "outputs": []
    }
   ],
   "metadata": {}
  }
 ]
}