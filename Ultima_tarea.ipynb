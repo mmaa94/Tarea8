{
 "metadata": {
  "name": ""
 },
 "nbformat": 3,
 "nbformat_minor": 0,
 "worksheets": [
  {
   "cells": [
    {
     "cell_type": "code",
     "collapsed": false,
     "input": [
      "%pylab inline"
     ],
     "language": "python",
     "metadata": {},
     "outputs": [
      {
       "output_type": "stream",
       "stream": "stdout",
       "text": [
        "Populating the interactive namespace from numpy and matplotlib\n"
       ]
      }
     ],
     "prompt_number": 2
    },
    {
     "cell_type": "code",
     "collapsed": false,
     "input": [
      "h=0.2\n",
      "n_points = int((2.0+h)/h)\n",
      "t = zeros(n_points)\n",
      "P = zeros(n_points)\n",
      "alpha=0\n",
      "beta=0\n",
      "s_o=0\n",
      "K_m1=0\n",
      "K_m2=0\n",
      "print t,P"
     ],
     "language": "python",
     "metadata": {},
     "outputs": [
      {
       "output_type": "stream",
       "stream": "stdout",
       "text": [
        "[ 0.  0.  0.  0.  0.  0.  0.  0.  0.  0.  0.] [ 0.  0.  0.  0.  0.  0.  0.  0.  0.  0.  0.]\n"
       ]
      }
     ],
     "prompt_number": 4
    },
    {
     "cell_type": "code",
     "collapsed": false,
     "input": [
      "def func_prime(t,P,al,s,km1,be,km2):\n",
      "    return (al*(s-P)/(km1+s-P))-(be*P/(km2+P)) "
     ],
     "language": "python",
     "metadata": {},
     "outputs": [],
     "prompt_number": 7
    },
    {
     "cell_type": "code",
     "collapsed": false,
     "input": [
      "def Runge_Kutta(alpha,beta,s_o,K_m1,K_m2):\n",
      "    t[0] = 0.0\n",
      "    P[0] = 1.0\n",
      "    for i in range(1,n_points):\n",
      "      \n",
      "        k1 = func_prime(t[i-1],P[i-1],alpha,s_o,K_m1,K_m2)\n",
      "        \n",
      "        #first step\n",
      "        x1 = x[i-1] + (h/2.0)\n",
      "        y1 = y[i-1] + (h/2.0) * k1\n",
      "        k2 = func_prime(x1, y1)\n",
      "        \n",
      "        #second step\n",
      "        x2 = x[i-1] + (h/2.0)\n",
      "        y2 = y[i-1] + (h/2.0) * k2\n",
      "        k3 = func_prime(x2, y2)\n",
      "            \n",
      "        #third step\n",
      "        x3 = x[i-1] + h\n",
      "        y3 = y[i-1] + h * k3\n",
      "        k4 = func_prime(x3, y3)\n",
      "        \n",
      "        #fourth step\n",
      "        average_k = (1.0/6.0)*(k1 + 2.0*k2 + 2.0*k3 + k4)\n",
      "        \n",
      "        x[i] = x[i-1] + h\n",
      "        y[i] = y[i-1] + h * average_k\n"
     ],
     "language": "python",
     "metadata": {},
     "outputs": [],
     "prompt_number": 11
    },
    {
     "cell_type": "code",
     "collapsed": false,
     "input": [],
     "language": "python",
     "metadata": {},
     "outputs": []
    }
   ],
   "metadata": {}
  }
 ]
}